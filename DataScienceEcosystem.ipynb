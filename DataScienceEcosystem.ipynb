{
 "cells": [
  {
   "cell_type": "markdown",
   "id": "82eb1952-b97e-4ce5-8c5c-58904ea22df2",
   "metadata": {},
   "source": [
    "# Data Science Tools and Ecosystem"
   ]
  },
  {
   "cell_type": "markdown",
   "id": "7eb2005b-e7d3-4214-991d-b36dfd4d5dda",
   "metadata": {},
   "source": [
    "In this notebook, Data Science Tools and Ecosystem are summarized."
   ]
  },
  {
   "cell_type": "markdown",
   "id": "9bd1336d-80fa-4fcf-98aa-0f0d0968ddb1",
   "metadata": {},
   "source": [
    "**Objectives:**\n",
    "* List popular languages used for Data Science\n",
    "* List popular libraries used for Data Science\n",
    "* List popular Development Environments\n",
    "* Exemplify arithmetic usage of Phyton  "
   ]
  },
  {
   "cell_type": "markdown",
   "id": "76966008-f724-44e5-95a8-b1d317f1d013",
   "metadata": {},
   "source": [
    "Some of the popular languages that Data Scientists use are:\n",
    "1. Phyton\n",
    "2. Julia\n",
    "3. R\n",
    "4. SQL\n",
    "5. Java\n",
    "6. Scala\n",
    "7. C++"
   ]
  },
  {
   "cell_type": "markdown",
   "id": "de1e8db0-1dca-4923-87d3-ce6cfadc6c32",
   "metadata": {},
   "source": [
    "Some of the commonly used libraries used by Data Scientists include:\n",
    "1. NumPy\n",
    "2. MatplotLib\n",
    "3. Seaborn\n",
    "4. SciPy\n",
    "5. Pandas\n",
    "6. Scikit-learn"
   ]
  },
  {
   "cell_type": "markdown",
   "id": "60632151-a0f0-4a4f-9855-09242ca6c219",
   "metadata": {},
   "source": [
    "|Data Science Tools|\n",
    "| ---------------- | \n",
    "| Jupyter Lab|\n",
    "| Anaconda |\n",
    "| Google Colab |"
   ]
  },
  {
   "cell_type": "markdown",
   "id": "485ab25a-776c-44b4-a2bb-cd66522fa26b",
   "metadata": {},
   "source": [
    "### Below are a few examples of evaluating arithmetic expressions in Python"
   ]
  },
  {
   "cell_type": "markdown",
   "id": "fda46b88-8a0a-464e-9954-b782c51cd177",
   "metadata": {},
   "source": [
    "This a simple arithmetic expression to mutiply then add integers"
   ]
  },
  {
   "cell_type": "code",
   "execution_count": 2,
   "id": "abda52d7-7ed2-48d2-85fb-3054a595afcf",
   "metadata": {},
   "outputs": [
    {
     "data": {
      "text/plain": [
       "17"
      ]
     },
     "execution_count": 2,
     "metadata": {},
     "output_type": "execute_result"
    }
   ],
   "source": [
    "(3*4)+5"
   ]
  },
  {
   "cell_type": "markdown",
   "id": "e7e96710-4bb6-43c8-96b8-3f37b7bb3c94",
   "metadata": {},
   "source": [
    "This will convert 200 minutes in hours\n"
   ]
  },
  {
   "cell_type": "code",
   "execution_count": 10,
   "id": "ba51af5d-6b73-4dea-9025-7c2f3503dbc8",
   "metadata": {},
   "outputs": [
    {
     "name": "stdout",
     "output_type": "stream",
     "text": [
      "3h20min\n"
     ]
    }
   ],
   "source": [
    "minutes = 200\n",
    "hours = int(200/60)\n",
    "\n",
    "minutes = minutes - hours*60\n",
    "\n",
    "print(f'{hours}h{minutes}min')\n"
   ]
  },
  {
   "cell_type": "markdown",
   "id": "a93a42d1-fd9a-48c9-a07f-6c8c8182da2c",
   "metadata": {},
   "source": [
    "## Author\n",
    "Mateus Avelino C. Santos"
   ]
  }
 ],
 "metadata": {
  "kernelspec": {
   "display_name": "Python 3 (ipykernel)",
   "language": "python",
   "name": "python3"
  },
  "language_info": {
   "codemirror_mode": {
    "name": "ipython",
    "version": 3
   },
   "file_extension": ".py",
   "mimetype": "text/x-python",
   "name": "python",
   "nbconvert_exporter": "python",
   "pygments_lexer": "ipython3",
   "version": "3.9.18"
  }
 },
 "nbformat": 4,
 "nbformat_minor": 5
}
